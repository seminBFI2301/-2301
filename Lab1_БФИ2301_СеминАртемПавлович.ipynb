{
 "cells": [
  {
   "cell_type": "markdown",
   "id": "f2fde2d1-a6e9-4261-bf32-bbbe67fe73db",
   "metadata": {},
   "source": [
    "# Лабораторная работа №1\n",
    "## Выполнил студент группы БФИ2301 Семин Артем Павлович\n",
    "### Задание №1\n",
    "Описание условия задания\n",
    "1. Создать Jupyter Notebook со следующим наименованием: Lab1_Группа_ФИО \n",
    "2. Создать новую ячейку с помощью кнопки \n",
    "3. В созданной ячейке по указанной ниже форме заполните оглавление файла, \n",
    "заменив наименование группы и вписав свое ФИО, \n",
    "после чего создайте еще одну ячейку и напишите следующий код: \n",
    "print(“Hello, World!”) \n",
    "4. С помощью кнопки  запустите выполнение всех ячеек. \n",
    "5. После выполнения у вас должна отформатироваться ячейка с оглавлением и \n",
    "должен выполниться “Hello, World!” (см. рис. 2)."
   ]
  },
  {
   "cell_type": "code",
   "execution_count": 7,
   "id": "fa93d9e8-8dcc-4d91-b860-7d37c87b10b9",
   "metadata": {},
   "outputs": [
    {
     "name": "stdout",
     "output_type": "stream",
     "text": [
      "Hello, World!\n"
     ]
    }
   ],
   "source": [
    "print(\"Hello, World!\")"
   ]
  },
  {
   "cell_type": "markdown",
   "id": "9d54daa9-71ac-4a5e-8e0f-4f170f466276",
   "metadata": {},
   "source": [
    "### Задание №2\n",
    "Написать генератор случайных матриц(многомерных), который принимает      \n",
    "опциональные параметры​m, n, min_limit,max_limit, где​mи​ n указывают размер            \n",
    "матрицы, а ​min_lim ​ и max_lim-минимальное и максимальное значение для           \n",
    "генерируемогочисла .Поумолчаниюприотсутствиипараметровприниматьследующие          \n",
    "значения: \n",
    "m = 50 \n",
    "n = 50 \n",
    "min_limit  = -250  \n",
    "max_limit = 1000 + (номер своего варианта"
   ]
  },
  {
   "cell_type": "code",
   "execution_count": 8,
   "id": "eea8bfa0-df75-40d1-8e42-1ba9f55dd860",
   "metadata": {},
   "outputs": [
    {
     "name": "stdin",
     "output_type": "stream",
     "text": [
      "Вы хотите задать значения (да/нет):  да\n",
      "Выберите значения (n, m, min_limit, max_limit, все):  nm\n",
      "Введите количество строк:  5\n",
      "Введите количество столбцов:  3\n",
      "Это все(да/нет):  да\n"
     ]
    },
    {
     "name": "stdout",
     "output_type": "stream",
     "text": [
      "[-107, -171, -207]\n",
      "[5, 42, -216]\n",
      "[-61, -226, -127]\n",
      "[-113, -185, -100]\n",
      "[-177, -200, -250]\n"
     ]
    }
   ],
   "source": [
    "import random\n",
    "\n",
    "def generator(n, m, min_limit, max_limit):\n",
    "    matrix_column = []\n",
    "    for j in range (n):\n",
    "        for i in range (m):\n",
    "            i = random.randint(min_limit, max_limit)\n",
    "            matrix_column.append(i)\n",
    "        print(matrix_column)\n",
    "        matrix_column = []\n",
    "\n",
    "        \n",
    "menu = input(\"Вы хотите задать значения (да/нет): \")\n",
    "\n",
    "while True:\n",
    "    n_check = 0\n",
    "    m_check = 0\n",
    "    min_check = 0\n",
    "    max_check = 0\n",
    "    if menu == \"да\" or menu == \"Да\" or menu == \"ДА\":\n",
    "        word = input(\"Выберите значения (n, m, min_limit, max_limit, все): \")\n",
    "    else:  \n",
    "        n = 50\n",
    "        m = 50\n",
    "        min_limit = -250\n",
    "        max_limit = 1000\n",
    "        break\n",
    "    \n",
    "    if word == \"все\":\n",
    "        n = int(input(\"Введите количество строк: \"))\n",
    "        m = int(input(\"Введите количество столбцов: \"))\n",
    "        min_limit = int(input(\"Введите минимально возможное число: \"))\n",
    "        max_limit = int(input(\"Введите максимально возможное число: \"))\n",
    "        break\n",
    "    \n",
    "    if \"n\" in word:\n",
    "        n = int(input(\"Введите количество строк: \"))\n",
    "        n_check = 1\n",
    "    if \"m\" in word:\n",
    "        m = int(input(\"Введите количество столбцов: \"))\n",
    "        m_check = 1\n",
    "    if \"min_limit\" in word:\n",
    "        min_limit = int(input(\"Введите минимально возможное число: \"))\n",
    "        min_check = 1\n",
    "    if \"max_limit\" in word:\n",
    "        max_limit = int(input(\"Введите максимально возможное число: \"))\n",
    "        max_check = 1\n",
    "            \n",
    "    exit = input(\"Это все(да/нет): \")\n",
    "    if exit != \"нет\":\n",
    "        if n_check != 1:\n",
    "            n = 50\n",
    "        if m_check != 1:\n",
    "            m = 50\n",
    "        if min_check != 1:\n",
    "            min_limit = -250\n",
    "        if max_check != 1:\n",
    "            max_limit = 50\n",
    "            break    \n",
    "\n",
    "        \n",
    "generator(n, m, min_limit, max_limit)\n"
   ]
  },
  {
   "cell_type": "markdown",
   "id": "2c123ceb-d969-472f-a854-64fded57f58c",
   "metadata": {},
   "source": [
    "### Задание N3\n",
    "Реализовать методы сортировки строк числовой матрицы в соответствии с         \n",
    "заданием. Оценить время работы каждого алгоритма сортировки и сравнить его со           \n",
    "временемстандартнойфункциисортировки.Испытанияпроводитьнасгенерированных        \n",
    "матрицах.\n",
    "\n",
    "\n",
    "Методы: \n",
    " Выбором, вставкой, обменом. Шелла, турнирная, быстрая сортировка, пирамидальная"
   ]
  },
  {
   "cell_type": "code",
   "execution_count": null,
   "id": "56538dc2-7d32-401b-8487-ed0d009ebd58",
   "metadata": {},
   "outputs": [],
   "source": []
  }
 ],
 "metadata": {
  "kernelspec": {
   "display_name": "Python 3 (ipykernel)",
   "language": "python",
   "name": "python3"
  },
  "language_info": {
   "codemirror_mode": {
    "name": "ipython",
    "version": 3
   },
   "file_extension": ".py",
   "mimetype": "text/x-python",
   "name": "python",
   "nbconvert_exporter": "python",
   "pygments_lexer": "ipython3",
   "version": "3.11.2"
  }
 },
 "nbformat": 4,
 "nbformat_minor": 5
}
