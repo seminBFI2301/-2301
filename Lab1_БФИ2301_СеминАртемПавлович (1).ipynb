{
 "cells": [
  {
   "cell_type": "markdown",
   "id": "f2fde2d1-a6e9-4261-bf32-bbbe67fe73db",
   "metadata": {},
   "source": [
    "# Лабораторная работа №1\n",
    "## Выполнил студент группы БФИ2301 Семин Артем Павлович\n",
    "### Задание №1\n",
    "Описание условия задания\n",
    "1. Создать Jupyter Notebook со следующим наименованием: Lab1_Группа_ФИО \n",
    "2. Создать новую ячейку с помощью кнопки \n",
    "3. В созданной ячейке по указанной ниже форме заполните оглавление файла, \n",
    "заменив наименование группы и вписав свое ФИО, \n",
    "после чего создайте еще одну ячейку и напишите следующий код: \n",
    "print(“Hello, World!”) \n",
    "4. С помощью кнопки  запустите выполнение всех ячеек. \n",
    "5. После выполнения у вас должна отформатироваться ячейка с оглавлением и \n",
    "должен выполниться “Hello, World!” (см. рис. 2)."
   ]
  },
  {
   "cell_type": "code",
   "execution_count": 7,
   "id": "fa93d9e8-8dcc-4d91-b860-7d37c87b10b9",
   "metadata": {},
   "outputs": [
    {
     "name": "stdout",
     "output_type": "stream",
     "text": [
      "Hello, World!\n"
     ]
    }
   ],
   "source": [
    "print(\"Hello, World!\")"
   ]
  },
  {
   "cell_type": "markdown",
   "id": "9d54daa9-71ac-4a5e-8e0f-4f170f466276",
   "metadata": {},
   "source": [
    "### Задание №2\n",
    "Написать генератор случайных матриц(многомерных), который принимает      \n",
    "опциональные параметры​m, n, min_limit,max_limit, где​m и​ n указывают размер            \n",
    "матрицы, а ​min_lim ​ и max_lim-минимальное и максимальное значение для           \n",
    "генерируемого числа. По умолчанию при отсутствии параметров принимать следующие          \n",
    "значения: \n",
    "m = 50 \n",
    "n = 50 \n",
    "min_limit  = -250  \n",
    "max_limit = 1000"
   ]
  },
  {
   "cell_type": "code",
   "execution_count": 10,
   "id": "eea8bfa0-df75-40d1-8e42-1ba9f55dd860",
   "metadata": {},
   "outputs": [
    {
     "name": "stdout",
     "output_type": "stream",
     "text": [
      "[[249, 94, 70, 64, 20], [115, 15, 216, 41, 247], [234, 132, 117, 92, 87], [144, 154, 85, 14, 32], [125, 90, 110, 39, 244]]\n"
     ]
    }
   ],
   "source": [
    "import random\n",
    "\n",
    "def generator(n=5, m=5, min_limit=10, max_limit=150):\n",
    "    matrix = []\n",
    "    for _ in range(n):\n",
    "        row = [random.randint(min_limit, max_limit) for _ in range(m)]\n",
    "        matrix.append(row)\n",
    "    return matrix\n",
    "print(generator(5, 5, 10, 250))"
   ]
  },
  {
   "cell_type": "markdown",
   "id": "2c123ceb-d969-472f-a854-64fded57f58c",
   "metadata": {},
   "source": [
    "### Задание №3\n",
    "Реализовать методы сортировки строк числовой матрицы в соответствии с         \n",
    "заданием. Оценить время работы каждого алгоритма сортировки и сравнить его со           \n",
    "временем стандартной функции сортировки. Испытания проводить на сгенерированных        \n",
    "матрицах.\n",
    "\n",
    "\n",
    "Методы: \n",
    " Выбором, вставкой, обменом. Шелла, турнирная, быстрая сортировка, пирамидальная"
   ]
  },
  {
   "cell_type": "markdown",
   "id": "c38c2f3e-1305-4a71-a2c5-99733b8bf27d",
   "metadata": {},
   "source": [
    "## Сортировка Выбором"
   ]
  },
  {
   "cell_type": "code",
   "execution_count": 16,
   "id": "c1fa0958-25c1-449c-8321-ae314ee05cdd",
   "metadata": {},
   "outputs": [
    {
     "name": "stdout",
     "output_type": "stream",
     "text": [
      "[[148, 86, 87, 76, 36], [115, 132, 43, 89, 130], [45, 116, 142, 141, 110], [122, 69, 58, 133, 129], [92, 56, 108, 34, 45]]\n",
      "[34, 36, 43, 45, 45, 56, 58, 69, 76, 86, 87, 89, 92, 108, 110, 115, 116, 122, 129, 130, 132, 133, 141, 142, 148]\n"
     ]
    }
   ],
   "source": [
    "import random\n",
    "\n",
    "def generator(n=5, m=5, min_limit=10, max_limit=150):\n",
    "    matrix = []\n",
    "    for _ in range(n):\n",
    "        row = [random.randint(min_limit, max_limit) for _ in range(m)]\n",
    "        matrix.append(row)\n",
    "    return matrix\n",
    "\n",
    "def selection_sort(matrix):\n",
    "    matrix = sum(matrix, [])\n",
    "    for i in range(len(matrix)):\n",
    "        min_index = i\n",
    "        for j in range(i + 1, len(matrix)):\n",
    "            if matrix[j] < matrix[min_index]:\n",
    "                min_index = j\n",
    "        matrix[i], matrix[min_index] = matrix[min_index], matrix[i]\n",
    "    \n",
    "    return matrix\n",
    "\n",
    "matrix = generator(5, 5, 10, 150)\n",
    "\n",
    "print(matrix)\n",
    "print(selection_sort(matrix))"
   ]
  },
  {
   "cell_type": "markdown",
   "id": "c6f39285-5d8a-4af0-b11d-68a67017f345",
   "metadata": {},
   "source": [
    "## Сортировка Вставкой"
   ]
  },
  {
   "cell_type": "code",
   "execution_count": 14,
   "id": "d184bbc1-3b32-4090-85f8-c9b422f2954c",
   "metadata": {},
   "outputs": [
    {
     "name": "stdout",
     "output_type": "stream",
     "text": [
      "[[70, 39, 33, 59, 133], [83, 120, 84, 19, 53], [105, 88, 56, 88, 90], [52, 57, 119, 85, 45], [44, 103, 102, 130, 57]]\n",
      "[19, 33, 39, 44, 45, 52, 53, 56, 57, 57, 59, 70, 83, 84, 85, 88, 88, 90, 102, 103, 105, 119, 120, 130, 133]\n"
     ]
    }
   ],
   "source": [
    "import random\n",
    "\n",
    "def generator(n=5, m=5, min_limit=10, max_limit=150):\n",
    "    matrix = []\n",
    "    for _ in range(n):\n",
    "        row = [random.randint(min_limit, max_limit) for _ in range(m)]\n",
    "        matrix.append(row)\n",
    "    return matrix\n",
    "\n",
    "def insert_sort(matrix):\n",
    "    matrix = sum(matrix, [])\n",
    "    for i in range(len(matrix)):\n",
    "        x = matrix[i]\n",
    "        j = i\n",
    "        while(j > 0 and matrix[j-1] > x):\n",
    "            matrix[j] = matrix[j-1]\n",
    "            j = j - 1\n",
    "        matrix[j] = x\n",
    "    return matrix\n",
    "\n",
    "matrix = generator(5, 5, 10, 150)\n",
    "\n",
    "print(matrix)\n",
    "print(insert_sort(matrix))"
   ]
  },
  {
   "cell_type": "markdown",
   "id": "ffb6d0d6-58bb-407e-ae0f-dedae7d036de",
   "metadata": {},
   "source": [
    "## Сортировка Обменом"
   ]
  },
  {
   "cell_type": "code",
   "execution_count": 17,
   "id": "659ebc66-d91b-4daa-8d32-be3d81bc6e48",
   "metadata": {},
   "outputs": [
    {
     "name": "stdout",
     "output_type": "stream",
     "text": [
      "[[12, 134, 45, 81, 63], [122, 80, 145, 88, 76], [108, 120, 84, 10, 132], [13, 44, 29, 108, 106], [52, 144, 134, 25, 102]]\n",
      "[10, 12, 13, 25, 29, 44, 45, 52, 63, 76, 80, 81, 84, 88, 102, 106, 108, 108, 120, 122, 132, 134, 134, 144, 145]\n"
     ]
    }
   ],
   "source": [
    "import random\n",
    "\n",
    "def generator(n=5, m=5, min_limit=10, max_limit=150):\n",
    "    matrix = []\n",
    "    for _ in range(n):\n",
    "        row = [random.randint(min_limit, max_limit) for _ in range(m)]\n",
    "        matrix.append(row)\n",
    "    return matrix\n",
    "\n",
    "def bubble_sort(matrix):\n",
    "    matrix = sum(matrix, [])\n",
    "    for i in range(len(matrix)):\n",
    "        flag = False\n",
    "        for j in range(len(matrix) - i - 1):\n",
    "            if matrix[j] > matrix[j + 1]:\n",
    "                matrix[j], matrix[j + 1] = matrix[j + 1], matrix[j]\n",
    "                flag = True\n",
    "        if not flag:\n",
    "            break\n",
    "    return matrix\n",
    "\n",
    "\n",
    "matrix = generator(5, 5, 10, 150)\n",
    "\n",
    "print(matrix)\n",
    "print(bubble_sort(matrix))\n"
   ]
  },
  {
   "cell_type": "markdown",
   "id": "27942bc5-9b2b-47b2-8cd8-156e82bf2f4a",
   "metadata": {},
   "source": [
    "## Сортировка Шелла"
   ]
  },
  {
   "cell_type": "code",
   "execution_count": 1,
   "id": "e213f50d-0e46-4b5c-b513-8acd32bc6f9b",
   "metadata": {},
   "outputs": [
    {
     "name": "stdout",
     "output_type": "stream",
     "text": [
      "[[80, 115, 89, 123, 74], [150, 118, 40, 58, 93], [61, 21, 40, 119, 34], [28, 143, 98, 117, 81], [39, 44, 126, 109, 64]]\n",
      "[21, 28, 34, 39, 40, 40, 44, 58, 61, 64, 74, 80, 81, 89, 93, 98, 109, 115, 117, 118, 119, 123, 126, 143, 150]\n"
     ]
    }
   ],
   "source": [
    "import random\n",
    "\n",
    "def generator(n=5, m=5, min_limit=10, max_limit=150):\n",
    "    matrix = []\n",
    "    for _ in range(n):\n",
    "        row = [random.randint(min_limit, max_limit) for _ in range(m)]\n",
    "        matrix.append(row)\n",
    "    return matrix\n",
    "\n",
    "def shell_sort(matrix):\n",
    "    matrix = sum(matrix, [])\n",
    "    part = len(matrix) // 2\n",
    "    while part > 0:\n",
    "        for i in range(part, len(matrix)):\n",
    "            temp = matrix[i]\n",
    "            j = i\n",
    "            while j >= part and matrix[j - part] > temp:\n",
    "                matrix[j] = matrix[j - part]\n",
    "                j -= part\n",
    "\n",
    "            matrix[j] = temp\n",
    "\n",
    "        part //= 2\n",
    "    return matrix\n",
    "\n",
    "\n",
    "matrix = generator(5, 5, 10, 150)\n",
    "\n",
    "print(matrix)\n",
    "print(shell_sort(matrix))"
   ]
  },
  {
   "cell_type": "markdown",
   "id": "5264bd73-8043-44c3-bcb1-432dc7c5dd60",
   "metadata": {},
   "source": [
    "## Быстрая сортировка"
   ]
  },
  {
   "cell_type": "code",
   "execution_count": 2,
   "id": "69f75caa-178e-4a71-92f3-ab0fbaa38082",
   "metadata": {},
   "outputs": [
    {
     "name": "stdout",
     "output_type": "stream",
     "text": [
      "[115, 96, 73, 137, 18, 13, 150, 142, 107, 13, 10, 125, 63, 55, 15, 45, 119, 36, 100, 24, 149, 150, 127, 98, 112]\n",
      "[10, 13, 13, 15, 18, 24, 36, 45, 55, 63, 73, 96, 98, 100, 107, 112, 115, 119, 125, 127, 137, 142, 149, 150, 150]\n"
     ]
    }
   ],
   "source": [
    "import random\n",
    "\n",
    "def generator(n=5, m=5, min_limit=10, max_limit=150):\n",
    "    matrix = []\n",
    "    for _ in range(n):\n",
    "        row = [random.randint(min_limit, max_limit) for _ in range(m)]\n",
    "        matrix.append(row)\n",
    "    return sum(matrix, [])\n",
    "\n",
    "def quick_sort(matrix):\n",
    "    if len(matrix) <= 1:\n",
    "        return matrix\n",
    "    prior = matrix[-1]\n",
    "\n",
    "    left = [x for x in matrix if x < prior]\n",
    "    middle = [x for x in matrix if x == prior]\n",
    "    right = [x for x in matrix if x > prior]\n",
    "    return quick_sort(left) + middle + quick_sort(right)\n",
    "\n",
    "\n",
    "matrix = generator(5, 5, 10, 150)\n",
    "\n",
    "print(matrix)\n",
    "print(quick_sort(matrix))"
   ]
  },
  {
   "cell_type": "markdown",
   "id": "0a57a520-d2a1-4c79-bf32-656748658f4b",
   "metadata": {},
   "source": [
    "## Турнирная сортировка"
   ]
  },
  {
   "cell_type": "code",
   "execution_count": 1,
   "id": "fd12e418-33d3-433f-9657-d5b362cc9220",
   "metadata": {},
   "outputs": [
    {
     "name": "stdout",
     "output_type": "stream",
     "text": [
      "[147, 52, 37, 149, 84, 135, 133, 57, 20, 89, 109, 99, 18, 71, 25, 61, 68, 113, 145, 25, 39, 128, 149, 145, 100]\n",
      "[18, 20, 25, 25, 37, 39, 52, 57, 61, 68, 71, 84, 89, 99, 100, 109, 113, 128, 133, 135, 145, 145, 147, 149, 149]\n"
     ]
    }
   ],
   "source": [
    "import random\n",
    "\n",
    "def generator(n=5, m=5, min_limit=10, max_limit=150):\n",
    "    matrix = []\n",
    "    for _ in range(n):\n",
    "        row = [random.randint(min_limit, max_limit) for _ in range(m)]\n",
    "        matrix.append(row)\n",
    "    return sum(matrix, [])\n",
    "    \n",
    "def tournament_sort(matrix):\n",
    "    result = []\n",
    "    while len(matrix) > 0:\n",
    "        winner = matrix[0]  \n",
    "        winner_index = 0\n",
    "        for i in range(1, len(matrix)):\n",
    "            if matrix[i] < winner:\n",
    "                winner = matrix[i]\n",
    "                winner_index = i\n",
    "        \n",
    "        result.append(winner)\n",
    "        for j in range(winner_index, len(matrix) - 1):\n",
    "            matrix[j] = matrix[j + 1]\n",
    "        matrix.pop()  \n",
    "    return result\n",
    "\n",
    "\n",
    "matrix = generator(5, 5, 10, 150)\n",
    "print(matrix)\n",
    "print(tournament_sort(matrix))"
   ]
  },
  {
   "cell_type": "code",
   "execution_count": null,
   "id": "d4b9a3ed-2e47-49d7-99dd-ac9da2fc17b7",
   "metadata": {},
   "outputs": [],
   "source": []
  }
 ],
 "metadata": {
  "kernelspec": {
   "display_name": "Python 3 (ipykernel)",
   "language": "python",
   "name": "python3"
  },
  "language_info": {
   "codemirror_mode": {
    "name": "ipython",
    "version": 3
   },
   "file_extension": ".py",
   "mimetype": "text/x-python",
   "name": "python",
   "nbconvert_exporter": "python",
   "pygments_lexer": "ipython3",
   "version": "3.11.2"
  }
 },
 "nbformat": 4,
 "nbformat_minor": 5
}
