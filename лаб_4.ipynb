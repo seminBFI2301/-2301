{
 "cells": [
  {
   "cell_type": "markdown",
   "id": "75ee7bf1",
   "metadata": {},
   "source": [
    "# Лабораторная работа 4. Методы поиска."
   ]
  },
  {
   "cell_type": "markdown",
   "id": "7655d26a",
   "metadata": {},
   "source": [
    "##  Выполнил студент группы БФИ2301 Семин Артем Павлович"
   ]
  },
  {
   "cell_type": "markdown",
   "id": "032bcaaf",
   "metadata": {},
   "source": [
    "## Задание 1: Методы поиска"
   ]
  },
  {
   "cell_type": "code",
   "execution_count": 1,
   "id": "8e460198",
   "metadata": {},
   "outputs": [],
   "source": [
    "from random import randint"
   ]
  },
  {
   "cell_type": "code",
   "execution_count": 2,
   "id": "fad103c6",
   "metadata": {},
   "outputs": [
    {
     "name": "stdout",
     "output_type": "stream",
     "text": [
      "Введите минимальное значение списка 1\n",
      "Введите максимальное значение списка 1488\n",
      "Введите длину списка 52\n",
      "Введите искомое значение 1337\n"
     ]
    }
   ],
   "source": [
    "min_lim = int(input('Введите минимальное значение списка '))\n",
    "max_lim = int(input('Введите максимальное значение списка '))\n",
    "m = sorted([randint(min_lim, max_lim) for _ in range(int(input('Введите длину списка ')))])\n",
    "n = int(input('Введите искомое значение '))"
   ]
  },
  {
   "cell_type": "markdown",
   "id": "c0881b82",
   "metadata": {},
   "source": [
    "### Бинарный поиск"
   ]
  },
  {
   "cell_type": "code",
   "execution_count": 3,
   "id": "f8d1bb0d",
   "metadata": {},
   "outputs": [],
   "source": [
    "def bin_find(v, key):\n",
    "    left = -1\n",
    "    right = len(v)\n",
    "    while right > left+1:\n",
    "        middle = (left+right)//2\n",
    "        if v[middle] >= key:\n",
    "            right = middle\n",
    "        else:\n",
    "            left = middle\n",
    "    if right < len(v) and v[right] == key:\n",
    "        return right\n",
    "    else:\n",
    "        return 'Элемент не найден'"
   ]
  },
  {
   "cell_type": "code",
   "execution_count": 4,
   "id": "128d8a1b",
   "metadata": {
    "scrolled": true
   },
   "outputs": [
    {
     "data": {
      "text/plain": [
       "'Элемент не найден'"
      ]
     },
     "execution_count": 4,
     "metadata": {},
     "output_type": "execute_result"
    }
   ],
   "source": [
    "bin_find(m, n)"
   ]
  },
  {
   "cell_type": "markdown",
   "id": "ea954949",
   "metadata": {},
   "source": [
    "- **Краткое описание**: Поиск элемента в отсортированном массиве путем деления диапазона пополам.\n",
    "- **Временная сложность**: $O(\\log n)$."
   ]
  },
  {
   "cell_type": "markdown",
   "id": "1b1ca6a8",
   "metadata": {},
   "source": [
    "### Бинарное дерево"
   ]
  },
  {
   "cell_type": "code",
   "execution_count": 5,
   "id": "ecb72851",
   "metadata": {},
   "outputs": [],
   "source": [
    "class TreeNode:\n",
    "    def __init__(self, key, index):\n",
    "        self.left = self.right = None\n",
    "        self.val = key\n",
    "        self.index = index"
   ]
  },
  {
   "cell_type": "code",
   "execution_count": 6,
   "id": "ae82b667",
   "metadata": {},
   "outputs": [],
   "source": [
    "class BinarySearchTree:\n",
    "    def __init__(self):\n",
    "        self.root = None\n",
    "\n",
    "    def insert(self, root, key, index):\n",
    "        if root is None:\n",
    "            return TreeNode(key, index)  # Создаем новый узел с ключом и индексом\n",
    "        if key < root.val:\n",
    "            root.left = self.insert(root.left, key, index)\n",
    "        else:\n",
    "            root.right = self.insert(root.right, key, index)\n",
    "        return root\n",
    "\n",
    "    def search(self, root, key):\n",
    "        if root is None or root.val == key:\n",
    "            return root.index if root else 'Элемент не найден'\n",
    "        if key < root.val:\n",
    "            return self.search(root.left, key)\n",
    "        return self.search(root.right, key)"
   ]
  },
  {
   "cell_type": "code",
   "execution_count": 7,
   "id": "27fa1621",
   "metadata": {},
   "outputs": [
    {
     "data": {
      "text/plain": [
       "'Элемент не найден'"
      ]
     },
     "execution_count": 7,
     "metadata": {},
     "output_type": "execute_result"
    }
   ],
   "source": [
    "bst = BinarySearchTree()\n",
    "root = None\n",
    "for index, num in enumerate(m):\n",
    "    root = bst.insert(root, num, index)\n",
    "\n",
    "bst.search(root, n)"
   ]
  },
  {
   "cell_type": "markdown",
   "id": "1e6c4fec",
   "metadata": {},
   "source": [
    "- **Краткое описание**: Поиск элемента в бинарном дереве поиска, где левое поддерево содержит меньшие значения, а правое — большие.\n",
    "- **Временная сложность**: $O(\\log n)$ (в среднем), $O(n)$ (в худшем случае)."
   ]
  },
  {
   "cell_type": "markdown",
   "id": "6e9b7ed1",
   "metadata": {},
   "source": [
    "### Фибоначиев"
   ]
  },
  {
   "cell_type": "code",
   "execution_count": 8,
   "id": "11a06e1f",
   "metadata": {},
   "outputs": [],
   "source": [
    "def fibonacci_search(m, n):\n",
    "    length = len(m)\n",
    "    fib_m_minus_2 = 0\n",
    "    fib_m_minus_1 = 1\n",
    "    fib = fib_m_minus_1 + fib_m_minus_2\n",
    "\n",
    "    while fib < length:\n",
    "        fib_m_minus_2 = fib_m_minus_1\n",
    "        fib_m_minus_1 = fib\n",
    "        fib = fib_m_minus_1 + fib_m_minus_2\n",
    "\n",
    "    offset = -1\n",
    "    while fib > 1:\n",
    "        i = min(offset + fib_m_minus_2, length - 1)\n",
    "        if m[i] < n:\n",
    "            fib = fib_m_minus_1\n",
    "            fib_m_minus_1 = fib_m_minus_2\n",
    "            fib_m_minus_2 = fib - fib_m_minus_1\n",
    "            offset = i\n",
    "        elif m[i] > n:\n",
    "            fib = fib_m_minus_2\n",
    "            fib_m_minus_1 -= fib_m_minus_2\n",
    "            fib_m_minus_2 = fib - fib_m_minus_1\n",
    "        else:\n",
    "            return i\n",
    "    if fib_m_minus_1 and offset + 1 < length and m[offset + 1] == n:\n",
    "        return offset + 1\n",
    "    return 'Элемент не найден'"
   ]
  },
  {
   "cell_type": "code",
   "execution_count": 9,
   "id": "863ce5f9",
   "metadata": {},
   "outputs": [
    {
     "data": {
      "text/plain": [
       "'Элемент не найден'"
      ]
     },
     "execution_count": 9,
     "metadata": {},
     "output_type": "execute_result"
    }
   ],
   "source": [
    "fibonacci_search(m, n)"
   ]
  },
  {
   "cell_type": "markdown",
   "id": "b82035a2",
   "metadata": {},
   "source": [
    "- **Краткое описание**: Поиск элемента в отсортированном массиве с использованием чисел Фибоначчи для разделения массива.\n",
    "- **Временная сложность**: $O(\\log n)$."
   ]
  },
  {
   "cell_type": "markdown",
   "id": "6e1eb59c",
   "metadata": {},
   "source": [
    "### Интерполяционный"
   ]
  },
  {
   "cell_type": "code",
   "execution_count": 10,
   "id": "c1629607",
   "metadata": {},
   "outputs": [],
   "source": [
    "def interpolation_search(m, n):\n",
    "    low, high = 0, len(m) - 1\n",
    "    while low <= high and m[low] <= n <= m[high]:\n",
    "        pos = low + ((n - m[low]) * (high - low)) // (m[high] - m[low])\n",
    "        if m[pos] == n:\n",
    "            return pos\n",
    "        elif m[pos] < n:\n",
    "            low = pos + 1\n",
    "        else:\n",
    "            high = pos - 1\n",
    "    return 'Элемент не найден'"
   ]
  },
  {
   "cell_type": "code",
   "execution_count": 11,
   "id": "5ac22607",
   "metadata": {},
   "outputs": [
    {
     "data": {
      "text/plain": [
       "'Элемент не найден'"
      ]
     },
     "execution_count": 11,
     "metadata": {},
     "output_type": "execute_result"
    }
   ],
   "source": [
    "interpolation_search(m, n)"
   ]
  },
  {
   "cell_type": "markdown",
   "id": "f94d8792",
   "metadata": {},
   "source": [
    "- **Краткое описание**: Улучшенный вариант бинарного поиска, использующий формулу интерполяции для предсказания позиции элемента.\n",
    "- **Временная сложность**: $O(\\log \\log n)$ (на равномерно распределенных данных), $O(n)$ (в худшем случае)."
   ]
  },
  {
   "cell_type": "markdown",
   "id": "8211d50b",
   "metadata": {},
   "source": [
    "## Задание 2: Методы хеширования"
   ]
  },
  {
   "cell_type": "code",
   "execution_count": 12,
   "id": "cdd777e8",
   "metadata": {},
   "outputs": [
    {
     "name": "stdout",
     "output_type": "stream",
     "text": [
      "Введите минимальное значение хэш таблицы 21\n",
      "Введите максимальное значение хэш таблицы 212\n",
      "Введите длину хэш таблицы 23\n",
      "Введите необходимое значение 55\n"
     ]
    }
   ],
   "source": [
    "min_lim = int(input('Введите минимальное значение хэш таблицы '))\n",
    "max_lim = int(input('Введите максимальное значение хэш таблицы '))\n",
    "hash_len = int(input('Введите длину хэш таблицы '))\n",
    "m = sorted([randint(min_lim, max_lim) for _ in range(hash_len)])\n",
    "n = int(input('Введите необходимое значение '))"
   ]
  },
  {
   "cell_type": "markdown",
   "id": "8d90a681",
   "metadata": {},
   "source": [
    "### Простое рехэширование"
   ]
  },
  {
   "cell_type": "code",
   "execution_count": 13,
   "id": "4a0b58a7",
   "metadata": {},
   "outputs": [],
   "source": [
    "class SimpleRehashing:\n",
    "    def __init__(self, size):\n",
    "        self.size = size\n",
    "        self.table = [None] * size\n",
    "\n",
    "    def hash_function(self, n):\n",
    "        return n % self.size\n",
    "\n",
    "    def insert(self, n):\n",
    "        index = self.hash_function(n)\n",
    "        while self.table[index] is not None:\n",
    "            index = (index + 1) % self.size  # Линейное пробирование\n",
    "        self.table[index] = n\n",
    "\n",
    "    def search(self, n):\n",
    "        index = self.hash_function(n)\n",
    "        original_index = index\n",
    "        while self.table[index] is not None:\n",
    "            if self.table[index] == n:\n",
    "                return index  # Элемент найден\n",
    "            index = (index + 1) % self.size\n",
    "            if index == original_index:\n",
    "                break  # Цикл завершен\n",
    "        return -1  # Элемент не найден"
   ]
  },
  {
   "cell_type": "code",
   "execution_count": 14,
   "id": "759a1674",
   "metadata": {},
   "outputs": [
    {
     "name": "stdout",
     "output_type": "stream",
     "text": [
      "Хеш-таблица: [202, 162, 71, 94, 95, 96, 166, 30, 168, 191, 205, 80, 35, 81, 81, 107, 107, 63, 109, 128, 43, 132, 201]\n",
      "Не найдено\n"
     ]
    }
   ],
   "source": [
    "hash_table = SimpleRehashing(hash_len)\n",
    "for num in m:\n",
    "    hash_table.insert(num)\n",
    "print(\"Хеш-таблица:\", hash_table.table)\n",
    "result = hash_table.search(n)\n",
    "print('Индекс = ' + str(result) if result != -1 else 'Не найдено')"
   ]
  },
  {
   "cell_type": "markdown",
   "id": "5453a8c3",
   "metadata": {},
   "source": [
    "- **Краткое описание**: При коллизии используется линейное пробирование для поиска следующей свободной ячейки.\n",
    "- **Временная сложность**: $O(1)$ (в среднем), $O(n)$ (в худшем случае)."
   ]
  },
  {
   "cell_type": "markdown",
   "id": "44a98b86",
   "metadata": {},
   "source": [
    "### Рехэширование с помощью псевдослучайных чисел"
   ]
  },
  {
   "cell_type": "code",
   "execution_count": 15,
   "id": "860b7f45",
   "metadata": {},
   "outputs": [],
   "source": [
    "class RandomRehashing:\n",
    "    def __init__(self, size):\n",
    "        self.size = size\n",
    "        self.table = [None] * size\n",
    "        self.seed = randint(1, 100)\n",
    "\n",
    "    def hash_function(self, n, step):\n",
    "        return (n % self.size + step * (self.seed % (self.size - 1))) % self.size\n",
    "\n",
    "    def insert(self, n):\n",
    "        step = 0\n",
    "        while True:\n",
    "            index = self.hash_function(n, step)\n",
    "            if self.table[index] is None:\n",
    "                self.table[index] = n\n",
    "                break\n",
    "            step += 1\n",
    "\n",
    "    def search(self, n):\n",
    "        step = 0\n",
    "        while True:\n",
    "            index = self.hash_function(n, step)\n",
    "            if self.table[index] == n:\n",
    "                return index  # Элемент найден\n",
    "            if self.table[index] is None or step > self.size:\n",
    "                break\n",
    "            step += 1\n",
    "        return -1  # Элемент не найден"
   ]
  },
  {
   "cell_type": "code",
   "execution_count": 16,
   "id": "eda41242",
   "metadata": {},
   "outputs": [
    {
     "name": "stdout",
     "output_type": "stream",
     "text": [
      "Хеш-таблица: [168, 81, 71, 95, 96, 162, 94, 30, 191, 166, 132, 80, 35, 128, 201, 107, 81, 63, 202, 107, 43, 109, 205]\n",
      "Не найдено\n"
     ]
    }
   ],
   "source": [
    "hash_table = RandomRehashing(hash_len)\n",
    "for num in m:\n",
    "    hash_table.insert(num)\n",
    "print(\"Хеш-таблица:\", hash_table.table)\n",
    "result = hash_table.search(n)\n",
    "print('Индекс = ' + str(result) if result != -1 else 'Не найдено')"
   ]
  },
  {
   "cell_type": "markdown",
   "id": "5b2fcc83",
   "metadata": {},
   "source": [
    "- **Краткое описание**: При коллизии используется псевдослучайная последовательность для поиска следующей свободной ячейки.\n",
    "- **Временная сложность**: $O(1)$ (в среднем), $O(n)$ (в худшем случае)."
   ]
  },
  {
   "cell_type": "markdown",
   "id": "c035643d",
   "metadata": {},
   "source": [
    "### Метод цепочек"
   ]
  },
  {
   "cell_type": "code",
   "execution_count": 17,
   "id": "25343945",
   "metadata": {},
   "outputs": [],
   "source": [
    "class ChainingHashTable:\n",
    "    def __init__(self, size):\n",
    "        self.size = size\n",
    "        self.table = [[] for _ in range(size)]\n",
    "\n",
    "    def hash_function(self, n):\n",
    "        return n % self.size\n",
    "\n",
    "    def insert(self, n):\n",
    "        index = self.hash_function(n)\n",
    "        self.table[index].append(n)\n",
    "\n",
    "    def search(self, n):\n",
    "        index = self.hash_function(n)\n",
    "        for item in self.table[index]:\n",
    "            if item == n:\n",
    "                return index  # Элемент найден\n",
    "        return -1  # Элемент не найден"
   ]
  },
  {
   "cell_type": "code",
   "execution_count": 18,
   "id": "1e7c10a0",
   "metadata": {},
   "outputs": [
    {
     "name": "stdout",
     "output_type": "stream",
     "text": [
      "Хеш-таблица: [[], [162], [71, 94], [95], [96], [166], [], [30, 168, 191], [], [], [], [80], [35, 81, 81], [128], [], [107, 107], [], [63, 109, 132, 201], [202], [], [43], [205], []]\n",
      "Не найдено\n"
     ]
    }
   ],
   "source": [
    "hash_table = ChainingHashTable(hash_len)\n",
    "for num in m:\n",
    "    hash_table.insert(num)\n",
    "print(\"Хеш-таблица:\", hash_table.table)\n",
    "result = hash_table.search(n)\n",
    "print('Индекс = ' + str(result) if result != -1 else 'Не найдено')"
   ]
  },
  {
   "cell_type": "markdown",
   "id": "3cc2a038",
   "metadata": {},
   "source": [
    "- **Краткое описание**: Каждая ячейка хеш-таблицы содержит связный список для хранения элементов с одинаковым хешем.\n",
    "- **Временная сложность**: $O(1 + \\alpha)$, где $\\alpha$ — средняя длина списка (коэффициент заполнения)."
   ]
  },
  {
   "cell_type": "markdown",
   "id": "9f0300c5",
   "metadata": {},
   "source": [
    "## Задание 3\n",
    "\n",
    "Расставить на стандартной 64-клеточной шахматной доске 8 ферзей так, чтобы ни один из них не находился под боем другого». Подразумевается, что ферзь бьёт все клетки, расположенные по вертикалям, горизонталям и обеим диагоналям  Написать программу, которая находит хотя бы один способ решения задач."
   ]
  },
  {
   "cell_type": "code",
   "execution_count": 19,
   "id": "f9c39071",
   "metadata": {},
   "outputs": [],
   "source": [
    "def is_safe(board, row, col):\n",
    "    # Проверяем столбец\n",
    "    for i in range(row):\n",
    "        if board[i] == col or abs(board[i] - col) == abs(i - row):\n",
    "            return False\n",
    "    return True\n",
    "\n",
    "def solve_n_queens(board, row, n):\n",
    "    if row == n:\n",
    "        return True  # Все ферзи расставлены\n",
    "    for col in range(n):\n",
    "        if is_safe(board, row, col):\n",
    "            board[row] = col\n",
    "            if solve_n_queens(board, row + 1, n):\n",
    "                return True\n",
    "    return False\n",
    "\n",
    "def print_board(board):\n",
    "    for row in board:\n",
    "        line = [\".\"] * len(board)\n",
    "        line[row] = \"Q\"\n",
    "        print(\" \".join(line))"
   ]
  },
  {
   "cell_type": "code",
   "execution_count": 20,
   "id": "7210dc24",
   "metadata": {},
   "outputs": [
    {
     "name": "stdout",
     "output_type": "stream",
     "text": [
      "Расстановка ферзей:\n",
      "Q . . . . . . .\n",
      ". . . . Q . . .\n",
      ". . . . . . . Q\n",
      ". . . . . Q . .\n",
      ". . Q . . . . .\n",
      ". . . . . . Q .\n",
      ". Q . . . . . .\n",
      ". . . Q . . . .\n"
     ]
    }
   ],
   "source": [
    "n = 8\n",
    "board = [-1] * n\n",
    "if solve_n_queens(board, 0, n):\n",
    "    print(\"Расстановка ферзей:\")\n",
    "    print_board(board)\n",
    "else:\n",
    "    print(\"Решение не найдено\")"
   ]
  },
  {
   "cell_type": "markdown",
   "id": "5219c489",
   "metadata": {},
   "source": [
    "- **Краткое описание**: Рекурсивный перебор с возвратом всех возможных позиций ферзей с проверкой условий безопасности.\n",
    "- **Временная сложность**: $O(n!)$, где $n=8$ (число ферзей)."
   ]
  }
 ],
 "metadata": {
  "kernelspec": {
   "display_name": "Python 3 (ipykernel)",
   "language": "python",
   "name": "python3"
  },
  "language_info": {
   "codemirror_mode": {
    "name": "ipython",
    "version": 3
   },
   "file_extension": ".py",
   "mimetype": "text/x-python",
   "name": "python",
   "nbconvert_exporter": "python",
   "pygments_lexer": "ipython3",
   "version": "3.11.11"
  },
  "toc": {
   "base_numbering": 1,
   "nav_menu": {
    "height": "139px",
    "width": "272px"
   },
   "number_sections": true,
   "sideBar": true,
   "skip_h1_title": false,
   "title_cell": "Table of Contents",
   "title_sidebar": "Contents",
   "toc_cell": false,
   "toc_position": {},
   "toc_section_display": true,
   "toc_window_display": false
  }
 },
 "nbformat": 4,
 "nbformat_minor": 5
}
