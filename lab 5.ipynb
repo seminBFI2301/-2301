{
 "cells": [
  {
   "cell_type": "markdown",
   "id": "db4b50f0",
   "metadata": {
    "id": "db4b50f0"
   },
   "source": [
    "# Лабораторная работа №5\n",
    "## Выполнил студент группы БФИ2301 Семин Артем Павлович\n"
   ]
  },
  {
   "cell_type": "markdown",
   "id": "annual-symbol",
   "metadata": {
    "id": "annual-symbol"
   },
   "source": [
    "### Оглавление\n",
    "1. [Задание 1](#Задание-№1)\n",
    "2. [Задание 2](#Задание-№2)\n",
    "4. [Вывод](#Вывод)"
   ]
  },
  {
   "cell_type": "markdown",
   "id": "independent-spirit",
   "metadata": {
    "id": "independent-spirit"
   },
   "source": [
    "> Дополнительные модули, использованные при выполнение лабораторной"
   ]
  },
  {
   "cell_type": "code",
   "execution_count": 15,
   "id": "4839be2b",
   "metadata": {
    "id": "4839be2b"
   },
   "outputs": [],
   "source": [
    "import heapq\n",
    "from copy import deepcopy"
   ]
  },
  {
   "cell_type": "markdown",
   "id": "inclusive-motorcycle",
   "metadata": {
    "id": "inclusive-motorcycle"
   },
   "source": [
    "### Задание №1\n",
    "Реализовать методы поиска подстроки в строке. Добавить возможность ввода строки и подстроки с клавиатуры. Предусмотреть возможность существования пробела. Реализовать возможность выбора опции чувствительности или нечувствительности к регистру. Оценить время работы каждого алгоритма поиска и сравнить его со временем работы стандартной функции поиска, используемой в выбранном языке программирования."
   ]
  },
  {
   "cell_type": "markdown",
   "id": "interracial-communication",
   "metadata": {
    "id": "interracial-communication"
   },
   "source": [
    "#### Алгоритм Кнута-Морриса-Пратта"
   ]
  },
  {
   "cell_type": "code",
   "execution_count": 16,
   "id": "59a0a6a9",
   "metadata": {
    "scrolled": true
   },
   "outputs": [],
   "source": [
    "text = input(\"Введите текст: \")\n",
    "pattern = input(\"Введите паттерн: \")\n",
    "sensitive = input(\"Чувствителен к регистру? (y/n): \").lower()"
   ]
  },
  {
   "cell_type": "code",
   "execution_count": 17,
   "id": "presidential-level",
   "metadata": {
    "id": "presidential-level"
   },
   "outputs": [],
   "source": [
    "def kmp_search(text, pattern, case_sensitive=True):\n",
    "    if not case_sensitive:\n",
    "        text = text.lower()\n",
    "        pattern = pattern.lower()\n",
    "    \n",
    "    n = len(text)\n",
    "    m = len(pattern)\n",
    "    \n",
    "    if m == 0:\n",
    "        return list(range(n + 1))\n",
    "    \n",
    "    # Построение префикс-функции\n",
    "    lps = [0] * m\n",
    "    j = 0\n",
    "    for i in range(1, m):\n",
    "        while j > 0 and pattern[i] != pattern[j]:\n",
    "            j = lps[j - 1]\n",
    "        if pattern[i] == pattern[j]:\n",
    "            j += 1\n",
    "        lps[i] = j\n",
    "        \n",
    "    # Поиск подстроки\n",
    "    result = []\n",
    "    j = 0\n",
    "    for i in range(n):\n",
    "        while j > 0 and text[i] != pattern[j]:\n",
    "            j = lps[j - 1]\n",
    "        if text[i] == pattern[j]:\n",
    "            j += 1\n",
    "        if j == m:\n",
    "            result.append(i - m + 1)\n",
    "            j = lps[j - 1]\n",
    "    return result"
   ]
  },
  {
   "cell_type": "code",
   "execution_count": 18,
   "id": "a43eed1b",
   "metadata": {
    "scrolled": true
   },
   "outputs": [
    {
     "name": "stdout",
     "output_type": "stream",
     "text": [
      "KMP-search positions: [0, 4, 7, 10]\n"
     ]
    }
   ],
   "source": [
    "kmp_search(text, pattern, sensitive == 'y')\n",
    "kmp_result = kmp_search(text, pattern, sensitive == 'y')\n",
    "print(\"KMP-search positions:\", kmp_result)"
   ]
  },
  {
   "cell_type": "markdown",
   "id": "downtown-option",
   "metadata": {
    "id": "downtown-option"
   },
   "source": [
    "#### Упрощенный алгоритм Бойера-Мура"
   ]
  },
  {
   "cell_type": "code",
   "execution_count": 19,
   "id": "respective-reggae",
   "metadata": {
    "id": "respective-reggae"
   },
   "outputs": [],
   "source": [
    "def build_shift_table(pattern):\n",
    "    \"\"\"Строит таблицу смещений для алгоритма Бойера-Мура.\"\"\"\n",
    "    table = {}\n",
    "    length = len(pattern)\n",
    "    \n",
    "    # Для каждого символа в шаблоне определяем его самое правое вхождение\n",
    "    for i, char in enumerate(pattern[:-1]):\n",
    "        table[char] = length - i - 1\n",
    "    \n",
    "    # Если символа нет в таблице, смещение на длину шаблона\n",
    "    table.setdefault(pattern[-1], length)\n",
    "    return table"
   ]
  },
  {
   "cell_type": "code",
   "execution_count": 20,
   "id": "b5d2de61",
   "metadata": {},
   "outputs": [],
   "source": [
    "def boyer_moore_search_all(text, pattern, case_sensitive=True):\n",
    "    if not case_sensitive:\n",
    "        text = text.lower()\n",
    "        pattern = pattern.lower()\n",
    "    \n",
    "    if not pattern:\n",
    "        return [0]  # Пустая подстрока найдена в начале строки\n",
    "    \n",
    "    shift_table = build_shift_table(pattern)\n",
    "    pattern_len = len(pattern)\n",
    "    text_len = len(text)\n",
    "    i = 0  # Позиция в тексте\n",
    "    occurrences = []\n",
    "    \n",
    "    while i <= text_len - pattern_len:\n",
    "        j = pattern_len - 1  # Начинаем сравнение с конца шаблона\n",
    "        \n",
    "        # Сравниваем символы с конца шаблона\n",
    "        while j >= 0 and text[i + j] == pattern[j]:\n",
    "            j -= 1\n",
    "        \n",
    "        if j < 0:\n",
    "            # Найдено совпадение - добавляем позицию\n",
    "            occurrences.append(i)\n",
    "            # Сдвигаем на 1 для поиска следующего вхождения\n",
    "            i += 1\n",
    "        else:\n",
    "            # Сдвигаем индекс i согласно таблице смещений\n",
    "            shift = shift_table.get(text[i + j], pattern_len)\n",
    "            i += max(1, shift - (pattern_len - 1 - j))\n",
    "    \n",
    "    return occurrences if occurrences else [-1]  # Возвращаем список или [-1] если не найдено"
   ]
  },
  {
   "cell_type": "code",
   "execution_count": 21,
   "id": "1f5ba0dd",
   "metadata": {
    "scrolled": false
   },
   "outputs": [
    {
     "name": "stdout",
     "output_type": "stream",
     "text": [
      "[0, 4, 7, 10]\n"
     ]
    }
   ],
   "source": [
    "print(boyer_moore_search_all(text, pattern, sensitive == 'y'))"
   ]
  },
  {
   "cell_type": "markdown",
   "id": "hybrid-memorial",
   "metadata": {
    "id": "hybrid-memorial"
   },
   "source": [
    "### Задание №2\n",
    "Написать программу, определяющую, является ли данное\n",
    "расположение «решаемым», то есть можно ли из него за конечное число\n",
    "шагов перейти к правильному. Если это возможно, то необходимо найти хотя\n",
    "бы одно решение - последовательность движений, после которой числа будут\n",
    "расположены в правильном порядке.\n",
    "#### Входные данные: массив чисел, представляющий собой расстановку в\n",
    "Порядке «слева направо, сверху вниз». Число 0 обозначает пустое поле.\n",
    "Например, массив [1, 2, 3, 4, 5, 6, 7, 8, 9, 10, 11, 12, 13, 14, 15, 0] представляет\n",
    "собой «решенную» позицию элементов.\n",
    "#### Выходные данные: если решения нет, то функция должна вернуть\n",
    "Пустой массив []. Если решение есть, то необходимо представить решение —\n",
    "для каждого шага записывается номер передвигаемого на данном шаге\n",
    "элемента. "
   ]
  },
  {
   "cell_type": "code",
   "execution_count": 22,
   "id": "eleven-generic",
   "metadata": {
    "id": "eleven-generic"
   },
   "outputs": [],
   "source": [
    "def is_solvable(puzzle):\n",
    "    inversions = 0\n",
    "    n = len(puzzle)\n",
    "    zero_pos = puzzle.index(0)\n",
    "    zero_row_from_bottom = 4 - (zero_pos // 4)  # Считаем строку с НИЗА (1-4)\n",
    "\n",
    "    for i in range(n):\n",
    "        if puzzle[i] == 0:\n",
    "            continue\n",
    "        for j in range(i + 1, n):\n",
    "            if puzzle[j] != 0 and puzzle[i] > puzzle[j]:\n",
    "                inversions += 1\n",
    "\n",
    "    # Правило: если пустая клетка в нечётной строке снизу, инверсий должно быть чётно\n",
    "    return (zero_row_from_bottom % 2 == 1) == (inversions % 2 == 0)"
   ]
  },
  {
   "cell_type": "code",
   "execution_count": 23,
   "id": "46fba150",
   "metadata": {},
   "outputs": [],
   "source": [
    "def manhattan_distance(puzzle):\n",
    "    distance = 0\n",
    "    for i in range(16):\n",
    "        if puzzle[i] == 0:\n",
    "            continue\n",
    "        x, y = i % 4, i // 4\n",
    "        target_x = (puzzle[i] - 1) % 4\n",
    "        target_y = (puzzle[i] - 1) // 4\n",
    "        distance += abs(x - target_x) + abs(y - target_y)\n",
    "    return distance"
   ]
  },
  {
   "cell_type": "code",
   "execution_count": 24,
   "id": "f59abc98",
   "metadata": {},
   "outputs": [],
   "source": [
    "def get_neighbors(puzzle):\n",
    "    neighbors = []\n",
    "    zero_pos = puzzle.index(0)\n",
    "    zero_x, zero_y = zero_pos % 4, zero_pos // 4\n",
    "    \n",
    "    for dx, dy in [(0, 1), (1, 0), (0, -1), (-1, 0)]:\n",
    "        x, y = zero_x + dx, zero_y + dy\n",
    "        if 0 <= x < 4 and 0 <= y < 4:\n",
    "            new_pos = y * 4 + x\n",
    "            new_puzzle = deepcopy(puzzle)\n",
    "            new_puzzle[zero_pos], new_puzzle[new_pos] = new_puzzle[new_pos], new_puzzle[zero_pos]\n",
    "            neighbors.append((new_puzzle, new_puzzle[zero_pos]))\n",
    "    \n",
    "    return neighbors"
   ]
  },
  {
   "cell_type": "code",
   "execution_count": 25,
   "id": "2426fcb6",
   "metadata": {},
   "outputs": [],
   "source": [
    "def solve_puzzle(puzzle):\n",
    "    if not is_solvable(puzzle):\n",
    "        return []\n",
    "    \n",
    "    goal = [1, 2, 3, 4, 5, 6, 7, 8, 9, 10, 11, 12, 13, 14, 15, 0]\n",
    "    heap = []\n",
    "    heapq.heappush(heap, (manhattan_distance(puzzle), 0, puzzle, []))\n",
    "    visited = set()\n",
    "    visited.add(tuple(puzzle))\n",
    "    \n",
    "    while heap:\n",
    "        _, cost, current, path = heapq.heappop(heap)\n",
    "        \n",
    "        if current == goal:\n",
    "            return path\n",
    "        \n",
    "        for neighbor, move in get_neighbors(current):\n",
    "            if tuple(neighbor) not in visited:\n",
    "                visited.add(tuple(neighbor))\n",
    "                new_cost = cost + 1\n",
    "                priority = new_cost + manhattan_distance(neighbor)\n",
    "                heapq.heappush(heap, (priority, new_cost, neighbor, path + [move]))\n",
    "    \n",
    "    return []"
   ]
  },
  {
   "cell_type": "code",
   "execution_count": 27,
   "id": "9432c18f",
   "metadata": {},
   "outputs": [
    {
     "name": "stdout",
     "output_type": "stream",
     "text": [
      "Найден путь решения (номера перемещённых плиток): [10, 11, 15]\n"
     ]
    }
   ],
   "source": [
    "puzzle = [1,  2,  3,  4,\n",
    "    5,  6,  7,  8,\n",
    "    9,  0, 10, 12,\n",
    "   13, 14, 11, 15]\n",
    "solution_path = solve_puzzle(puzzle)\n",
    "if solution_path:\n",
    "    print(\"Найден путь решения (номера перемещённых плиток):\", solution_path)\n",
    "else:\n",
    "    print(\"Решение не существует для данной расстановки.\")"
   ]
  },
  {
   "cell_type": "markdown",
   "id": "arbitrary-amazon",
   "metadata": {
    "id": "arbitrary-amazon"
   },
   "source": [
    "### Вывод"
   ]
  },
  {
   "cell_type": "markdown",
   "id": "71bc58bf",
   "metadata": {
    "id": "71bc58bf"
   },
   "source": []
  }
 ],
 "metadata": {
  "colab": {
   "provenance": []
  },
  "kernelspec": {
   "display_name": "Python 3",
   "language": "python",
   "name": "python3"
  },
  "language_info": {
   "codemirror_mode": {
    "name": "ipython",
    "version": 3
   },
   "file_extension": ".py",
   "mimetype": "text/x-python",
   "name": "python",
   "nbconvert_exporter": "python",
   "pygments_lexer": "ipython3",
   "version": "3.13.3"
  },
  "toc": {
   "base_numbering": 1,
   "nav_menu": {},
   "number_sections": true,
   "sideBar": true,
   "skip_h1_title": false,
   "title_cell": "Table of Contents",
   "title_sidebar": "Contents",
   "toc_cell": false,
   "toc_position": {},
   "toc_section_display": true,
   "toc_window_display": false
  }
 },
 "nbformat": 4,
 "nbformat_minor": 5
}
