{
 "cells": [
  {
   "cell_type": "markdown",
   "id": "fifteen-sailing",
   "metadata": {
    "id": "fifteen-sailing"
   },
   "source": [
    "# Лабораторная работа №2\n",
    "## Выполнил студент группы Семин Артем Павлович БФИ2301"
   ]
  },
  {
   "cell_type": "markdown",
   "id": "arctic-stocks",
   "metadata": {
    "id": "arctic-stocks"
   },
   "source": [
    "Реализовать следующие структуры данных:\n",
    "  \n",
    "● <b> Стек (stack): </b>  \n",
    "Операции для стека:\n",
    "<i> инициализация, проверка на пустоту, добавление нового элемента в начало, извлечение элемента из начала;  </i>  \n",
    "  \n",
    "● <b> Дек (двусторонняя очередь, deque):  </b>  \n",
    "Операции для дека:\n",
    "<i> инициализация, проверка на пустоту, добавление нового элемента в начало, добавление нового элемента в конец, извлечение элемента из начала, извлечение элемента из конца. </i>  \n",
    "  \n",
    "<i> Разработать программу обработки данных, содержащихся в заранее подготовленном txt-файле, в соответствии с заданиями, применив указанную в задании структуру данных. Результат работы программы вывести на экран и сохранить в отдельном txt-файле. </i>"
   ]
  },
  {
   "cell_type": "code",
   "execution_count": 1,
   "id": "f0e3ffd7",
   "metadata": {},
   "outputs": [],
   "source": [
    "# Стек\n",
    "class Stack:\n",
    "    def __init__(self): # инициализация\n",
    "        self.items = []\n",
    "    \n",
    "    def is_empty(self): # проверка на пустоту\n",
    "        return len(self.items) == 0\n",
    "    \n",
    "    def push(self, item): # добавление нового элемента в начало\n",
    "        self.items.insert(0, item)\n",
    "        \n",
    "    def peek_front(self): # просмотр первого элемента\n",
    "        if not self.is_empty():\n",
    "            return self.items[0]\n",
    "        return None\n",
    "    \n",
    "    def pop(self): # извлечение элемента из начала\n",
    "        if not self.is_empty():\n",
    "            return self.items.pop(0)\n",
    "        return None"
   ]
  },
  {
   "cell_type": "code",
   "execution_count": 2,
   "id": "f456633b",
   "metadata": {},
   "outputs": [],
   "source": [
    "# Дек\n",
    "class Deque:\n",
    "    def __init__(self): # инициализация\n",
    "        self.items = []\n",
    "\n",
    "    def is_empty(self): # проверка на пустоту\n",
    "        return len(self.items) == 0\n",
    "\n",
    "    def add_front(self, item): # добавление нового элемента в начало\n",
    "        self.items.insert(0, item)\n",
    "\n",
    "    def add_rear(self, item): # добавление нового элемента в конец\n",
    "        self.items.append(item)\n",
    "\n",
    "    def remove_front(self): # извлечение элемента из начала\n",
    "        if not self.is_empty():\n",
    "            return self.items.pop(0)\n",
    "        return None\n",
    "\n",
    "    def remove_rear(self): # извлечение элемента из конца\n",
    "        if not self.is_empty():\n",
    "            return self.items.pop()\n",
    "        return None\n",
    "\n",
    "    def peek_front(self): # просмотр первого элемента\n",
    "        if not self.is_empty():\n",
    "            return self.items[0]\n",
    "        return None\n",
    "\n",
    "    def peek_rear(self): # просмотр последнего элемента\n",
    "        if not self.is_empty():\n",
    "            return self.items[-1]\n",
    "        return None"
   ]
  },
  {
   "cell_type": "markdown",
   "id": "5d7edb08",
   "metadata": {
    "id": "5d7edb08",
    "scrolled": true
   },
   "source": [
    "### Задание №1\n",
    "Отсортировать строки файла, содержащие названия книг, в алфавитном порядке с использованием двух деков."
   ]
  },
  {
   "cell_type": "code",
   "execution_count": 3,
   "id": "17702ade",
   "metadata": {
    "id": "17702ade"
   },
   "outputs": [
    {
     "data": {
      "text/plain": [
       "['Война и мир',\n",
       " 'Преступление и наказание',\n",
       " 'Мастер и Маргарита',\n",
       " 'Евгений Онегин',\n",
       " 'Обломов',\n",
       " 'Горе от ума',\n",
       " 'Три мушкетера',\n",
       " 'Над пропастью во ржи',\n",
       " 'Сто лет одиночества',\n",
       " 'Великий Гэтсби']"
      ]
     },
     "execution_count": 3,
     "metadata": {},
     "output_type": "execute_result"
    }
   ],
   "source": [
    "with open('1.txt', 'r', encoding='utf-8') as file:\n",
    "    books = [i.strip() for i in file]\n",
    "books"
   ]
  },
  {
   "cell_type": "code",
   "execution_count": 4,
   "id": "76e1d30e",
   "metadata": {},
   "outputs": [],
   "source": [
    "deque1 = Deque()\n",
    "deque2 = Deque()"
   ]
  },
  {
   "cell_type": "code",
   "execution_count": 5,
   "id": "8b135c3b",
   "metadata": {},
   "outputs": [
    {
     "data": {
      "text/plain": [
       "['Война и мир',\n",
       " 'Преступление и наказание',\n",
       " 'Мастер и Маргарита',\n",
       " 'Евгений Онегин',\n",
       " 'Обломов',\n",
       " 'Горе от ума',\n",
       " 'Три мушкетера',\n",
       " 'Над пропастью во ржи',\n",
       " 'Сто лет одиночества',\n",
       " 'Великий Гэтсби']"
      ]
     },
     "execution_count": 5,
     "metadata": {},
     "output_type": "execute_result"
    }
   ],
   "source": [
    "for book in books:\n",
    "    deque1.add_rear(book)\n",
    "deque1.items"
   ]
  },
  {
   "cell_type": "code",
   "execution_count": 6,
   "id": "de229205",
   "metadata": {},
   "outputs": [
    {
     "data": {
      "text/plain": [
       "['Великий Гэтсби',\n",
       " 'Война и мир',\n",
       " 'Горе от ума',\n",
       " 'Евгений Онегин',\n",
       " 'Мастер и Маргарита',\n",
       " 'Над пропастью во ржи',\n",
       " 'Обломов',\n",
       " 'Преступление и наказание',\n",
       " 'Сто лет одиночества',\n",
       " 'Три мушкетера']"
      ]
     },
     "execution_count": 6,
     "metadata": {},
     "output_type": "execute_result"
    }
   ],
   "source": [
    "while not deque1.is_empty():\n",
    "    current = deque1.remove_front()  # берем элемент из deque1\n",
    "    # перемещаем элементы из deque2 обратно в deque1, пока они больше текущего\n",
    "    while not deque2.is_empty() and deque2.peek_rear() > current:\n",
    "        deque1.add_rear(deque2.remove_rear())\n",
    "    # добавляем текущий элемент в deque2\n",
    "    deque2.add_rear(current)\n",
    "\n",
    "deque2.items"
   ]
  },
  {
   "cell_type": "markdown",
   "id": "49fbd2a0",
   "metadata": {
    "id": "49fbd2a0"
   },
   "source": [
    "### Задание №2\n",
    "Дек содержит последовательность символов для шифровки сообщений. Дан текстовый файл, содержащий зашифрованное сообщение. Пользуясь деком, расшифровать текст.\n",
    "Известно, что при шифровке каждый символ сообщения заменялся следующим за ним в деке по часовой стрелке через один."
   ]
  },
  {
   "cell_type": "code",
   "execution_count": 7,
   "id": "59d4cbec",
   "metadata": {},
   "outputs": [
    {
     "data": {
      "text/plain": [
       "'jgnnq yqtnf'"
      ]
     },
     "execution_count": 7,
     "metadata": {},
     "output_type": "execute_result"
    }
   ],
   "source": [
    "with open('2.txt', 'r', encoding='utf-8') as file:\n",
    "    encrypted_message = file.read().strip()\n",
    "encrypted_message"
   ]
  },
  {
   "cell_type": "code",
   "execution_count": 8,
   "id": "6a052e5a",
   "metadata": {},
   "outputs": [
    {
     "data": {
      "text/plain": [
       "['a',\n",
       " 'b',\n",
       " 'c',\n",
       " 'd',\n",
       " 'e',\n",
       " 'f',\n",
       " 'g',\n",
       " 'h',\n",
       " 'i',\n",
       " 'j',\n",
       " 'k',\n",
       " 'l',\n",
       " 'm',\n",
       " 'n',\n",
       " 'o',\n",
       " 'p',\n",
       " 'q',\n",
       " 'r',\n",
       " 's',\n",
       " 't',\n",
       " 'u',\n",
       " 'v',\n",
       " 'w',\n",
       " 'x',\n",
       " 'y',\n",
       " 'z']"
      ]
     },
     "execution_count": 8,
     "metadata": {},
     "output_type": "execute_result"
    }
   ],
   "source": [
    "deque = Deque()\n",
    "# заполняем дек алфавитом\n",
    "[deque.add_rear(i) for i in 'abcdefghijklmnopqrstuvwxyz']\n",
    "deque.items"
   ]
  },
  {
   "cell_type": "code",
   "execution_count": 9,
   "id": "d6e23ab8",
   "metadata": {},
   "outputs": [
    {
     "name": "stdout",
     "output_type": "stream",
     "text": [
      "hello world"
     ]
    }
   ],
   "source": [
    "for char in encrypted_message:\n",
    "    if char in deque.items:\n",
    "        index = deque.items.index(char)\n",
    "        # Находим символ через один против часовой стрелки\n",
    "        new_index = (index - 2) % len(deque.items)\n",
    "        print(deque.items[new_index], end='')\n",
    "    else:\n",
    "        print(char, end='')  # Если символ не в алфавите, оставляем его без изменений"
   ]
  },
  {
   "cell_type": "markdown",
   "id": "c0894f47",
   "metadata": {
    "id": "c0894f47"
   },
   "source": [
    "### Задание №3\n",
    "Даны три стержня и n дисков различного размера. Диски можно надевать на стержни, образуя из них башни. Перенести n дисков со стержня А на стержень С, сохранив их первоначальный порядок. При переносе дисков необходимо соблюдать следующие правила:\n",
    "- на каждом шаге со стержня на стержень переносить только один диск;\n",
    "- диск нельзя помещать на диск меньшего размера;\n",
    "- для промежуточного хранения можно использовать стержень В.\n",
    "Реализовать алгоритм, используя три стека вместо стержней А, В, С. Информация о дисках хранится в исходном файле."
   ]
  },
  {
   "cell_type": "code",
   "execution_count": 10,
   "id": "9e91a9d4",
   "metadata": {
    "id": "9e91a9d4"
   },
   "outputs": [
    {
     "data": {
      "text/plain": [
       "['5', '4', '3', '2', '1']"
      ]
     },
     "execution_count": 10,
     "metadata": {},
     "output_type": "execute_result"
    }
   ],
   "source": [
    "with open('3.txt', 'r', encoding='utf-8') as file:\n",
    "    tower = [i.strip() for i in file]\n",
    "tower"
   ]
  },
  {
   "cell_type": "code",
   "execution_count": 11,
   "id": "fb8c84db",
   "metadata": {},
   "outputs": [],
   "source": [
    "stackA = Stack()\n",
    "stackB = Stack()\n",
    "stackC = Stack()"
   ]
  },
  {
   "cell_type": "code",
   "execution_count": 12,
   "id": "a2c47155",
   "metadata": {},
   "outputs": [
    {
     "data": {
      "text/plain": [
       "['1', '2', '3', '4', '5']"
      ]
     },
     "execution_count": 12,
     "metadata": {},
     "output_type": "execute_result"
    }
   ],
   "source": [
    "[stackA.push(i) for i in tower]\n",
    "stackA.items"
   ]
  },
  {
   "cell_type": "code",
   "execution_count": 13,
   "id": "75deb7ac",
   "metadata": {},
   "outputs": [],
   "source": [
    "def towers(n, source, target, auxiliary):\n",
    "    if n > 0:\n",
    "        # Переносим n-1 дисков с source на auxiliary, используя target как вспомогательный\n",
    "        towers(n - 1, source, auxiliary, target)\n",
    "\n",
    "        # Переносим самый большой диск с source на target\n",
    "        disk = source.pop()\n",
    "        target.push(disk)\n",
    "        print(f'Стек A: {\" \".join(stackA.items):<8} Стек B:{\" \".join(stackB.items):<8} Стек C: {\" \".join(stackC.items):<8}')\n",
    "\n",
    "        # Переносим n-1 дисков с auxiliary на target, используя source как вспомогательный\n",
    "        towers(n - 1, auxiliary, target, source)"
   ]
  },
  {
   "cell_type": "code",
   "execution_count": 14,
   "id": "8bcc8904",
   "metadata": {},
   "outputs": [
    {
     "name": "stdout",
     "output_type": "stream",
     "text": [
      "Стек A: 2 3 4 5  Стек B:         Стек C: 1       \n",
      "Стек A: 3 4 5    Стек B:2        Стек C: 1       \n",
      "Стек A: 3 4 5    Стек B:1 2      Стек C:         \n",
      "Стек A: 4 5      Стек B:1 2      Стек C: 3       \n",
      "Стек A: 1 4 5    Стек B:2        Стек C: 3       \n",
      "Стек A: 1 4 5    Стек B:         Стек C: 2 3     \n",
      "Стек A: 4 5      Стек B:         Стек C: 1 2 3   \n",
      "Стек A: 5        Стек B:4        Стек C: 1 2 3   \n",
      "Стек A: 5        Стек B:1 4      Стек C: 2 3     \n",
      "Стек A: 2 5      Стек B:1 4      Стек C: 3       \n",
      "Стек A: 1 2 5    Стек B:4        Стек C: 3       \n",
      "Стек A: 1 2 5    Стек B:3 4      Стек C:         \n",
      "Стек A: 2 5      Стек B:3 4      Стек C: 1       \n",
      "Стек A: 5        Стек B:2 3 4    Стек C: 1       \n",
      "Стек A: 5        Стек B:1 2 3 4  Стек C:         \n",
      "Стек A:          Стек B:1 2 3 4  Стек C: 5       \n",
      "Стек A: 1        Стек B:2 3 4    Стек C: 5       \n",
      "Стек A: 1        Стек B:3 4      Стек C: 2 5     \n",
      "Стек A:          Стек B:3 4      Стек C: 1 2 5   \n",
      "Стек A: 3        Стек B:4        Стек C: 1 2 5   \n",
      "Стек A: 3        Стек B:1 4      Стек C: 2 5     \n",
      "Стек A: 2 3      Стек B:1 4      Стек C: 5       \n",
      "Стек A: 1 2 3    Стек B:4        Стек C: 5       \n",
      "Стек A: 1 2 3    Стек B:         Стек C: 4 5     \n",
      "Стек A: 2 3      Стек B:         Стек C: 1 4 5   \n",
      "Стек A: 3        Стек B:2        Стек C: 1 4 5   \n",
      "Стек A: 3        Стек B:1 2      Стек C: 4 5     \n",
      "Стек A:          Стек B:1 2      Стек C: 3 4 5   \n",
      "Стек A: 1        Стек B:2        Стек C: 3 4 5   \n",
      "Стек A: 1        Стек B:         Стек C: 2 3 4 5 \n",
      "Стек A:          Стек B:         Стек C: 1 2 3 4 5\n"
     ]
    }
   ],
   "source": [
    "towers(len(tower), stackA, stackC, stackB)"
   ]
  },
  {
   "cell_type": "markdown",
   "id": "e5b0be17",
   "metadata": {
    "id": "e5b0be17"
   },
   "source": [
    "### Задание №4\n",
    "Дан текстовый файл с программой на алгоритмическом языке. За один просмотр файла проверить баланс круглых скобок в тексте, используя стек."
   ]
  },
  {
   "cell_type": "code",
   "execution_count": 15,
   "id": "45b78b58",
   "metadata": {},
   "outputs": [],
   "source": [
    "def stack_balance(file_name):\n",
    "    # Инициализация стека\n",
    "    stack = Stack()\n",
    "\n",
    "    # Чтение файла посимвольно\n",
    "    with open(file_name, 'r', encoding='utf-8') as file:\n",
    "        for line in file:\n",
    "            for char in line:\n",
    "                if char == '(':\n",
    "                    # Добавляем открывающую скобку в стек\n",
    "                    stack.push(char)\n",
    "                elif char == ')':\n",
    "                    # Если встретили закрывающую скобку\n",
    "                    if stack.is_empty():\n",
    "                        # Если стек пуст, скобки несбалансированы\n",
    "                        return 'Лишняя закрывающая скобка'\n",
    "                    # Удаляем последнюю открывающую скобку из стека\n",
    "                    stack.pop()\n",
    "\n",
    "    # После завершения проверяем, пуст ли стек\n",
    "    if stack.is_empty():\n",
    "        return 'Скобки сбалансированы'\n",
    "    else:\n",
    "        return 'Есть незакрытая открывающая скобка'"
   ]
  },
  {
   "cell_type": "code",
   "execution_count": 16,
   "id": "c662f061",
   "metadata": {},
   "outputs": [
    {
     "data": {
      "text/plain": [
       "'Скобки сбалансированы'"
      ]
     },
     "execution_count": 16,
     "metadata": {},
     "output_type": "execute_result"
    }
   ],
   "source": [
    "stack_balance('4.txt')"
   ]
  },
  {
   "cell_type": "markdown",
   "id": "c44cdd6b",
   "metadata": {
    "id": "c44cdd6b"
   },
   "source": [
    "### Задание №5\n",
    "Дан текстовый файл с программой на алгоритмическом языке. За один просмотр файла проверить баланс квадратных скобок в тексте, используя дек."
   ]
  },
  {
   "cell_type": "code",
   "execution_count": 17,
   "id": "36b8f400",
   "metadata": {
    "id": "36b8f400"
   },
   "outputs": [],
   "source": [
    "def deque_balance(file_name):\n",
    "    # Инициализация дека\n",
    "    deque = Deque()\n",
    "\n",
    "    # Чтение файла посимвольно\n",
    "    with open(file_name, 'r', encoding='utf-8') as file:\n",
    "        for line in file:\n",
    "            for char in line:\n",
    "                if char == '[':\n",
    "                    # Добавляем открывающую скобку в начало дека\n",
    "                    deque.add_front(char)\n",
    "                elif char == ']':\n",
    "                    # Если встретили закрывающую скобку\n",
    "                    if deque.is_empty():\n",
    "                        # Если дек пуст, скобки несбалансированы\n",
    "                        return 'Лишняя закрывающая скобка'\n",
    "                    # Удаляем последнюю открывающую скобку из конца дека\n",
    "                    deque.remove_rear()\n",
    "\n",
    "    # После завершения проверяем, пуст ли дек\n",
    "    if deque.is_empty():\n",
    "        return 'Скобки сбалансированы'\n",
    "    else:\n",
    "        return 'Есть незакрытая открывающая скобка'"
   ]
  },
  {
   "cell_type": "code",
   "execution_count": 18,
   "id": "7e733863",
   "metadata": {},
   "outputs": [
    {
     "data": {
      "text/plain": [
       "'Скобки сбалансированы'"
      ]
     },
     "execution_count": 18,
     "metadata": {},
     "output_type": "execute_result"
    }
   ],
   "source": [
    "deque_balance('5.txt')"
   ]
  },
  {
   "cell_type": "markdown",
   "id": "59d13dc7",
   "metadata": {
    "id": "59d13dc7"
   },
   "source": [
    "### Задание №6\n",
    "Дан файл из символов. Используя стек, за один просмотр файла напечатать сначала все цифры, затем все буквы, и, наконец, все остальные символы, сохраняя исходный порядок в каждой группе символов."
   ]
  },
  {
   "cell_type": "code",
   "execution_count": 19,
   "id": "297e36c2",
   "metadata": {
    "id": "297e36c2"
   },
   "outputs": [],
   "source": [
    "digits_stack = Stack()\n",
    "letters_stack = Stack()\n",
    "others_stack = Stack()"
   ]
  },
  {
   "cell_type": "code",
   "execution_count": 20,
   "id": "b85da2d4",
   "metadata": {},
   "outputs": [],
   "source": [
    "with open('6.txt', 'r', encoding='utf-8') as file:\n",
    "        for char in file.read():\n",
    "            if char.isdigit():  # Если символ — цифра\n",
    "                digits_stack.push(char)\n",
    "            elif char.isalpha():  # Если символ — буква\n",
    "                letters_stack.push(char)\n",
    "            else:  # Если символ — другой\n",
    "                others_stack.push(char)"
   ]
  },
  {
   "cell_type": "code",
   "execution_count": 21,
   "id": "1190ca38",
   "metadata": {},
   "outputs": [
    {
     "name": "stdout",
     "output_type": "stream",
     "text": [
      "Цифры: 1234567890\n",
      "Буквы: abcdefghijklmnopqrtuvwxyz\n",
      "Остальные символы: !@#$%^&*();,./?:;-=_+|\"'\n"
     ]
    }
   ],
   "source": [
    "digits = []\n",
    "while not digits_stack.is_empty():\n",
    "    digits.append(digits_stack.pop())\n",
    "\n",
    "letters = []\n",
    "while not letters_stack.is_empty():\n",
    "    letters.append(letters_stack.pop())\n",
    "\n",
    "others = []\n",
    "while not others_stack.is_empty():\n",
    "    others.append(others_stack.pop())\n",
    "\n",
    "print('Цифры:', ''.join(reversed(digits)))\n",
    "print('Буквы:', ''.join(reversed(letters)))\n",
    "print('Остальные символы:', ''.join(reversed(others)))"
   ]
  },
  {
   "cell_type": "markdown",
   "id": "973f68bd",
   "metadata": {
    "id": "973f68bd"
   },
   "source": [
    "### Задание №7\n",
    "Дан файл из целых чисел. Используя дек, за один просмотр файла напечатать сначала все отрицательные числа, затем все положительные числа, сохраняя исходный порядок в каждой группе."
   ]
  },
  {
   "cell_type": "code",
   "execution_count": 22,
   "id": "c56fad66",
   "metadata": {
    "id": "c56fad66"
   },
   "outputs": [],
   "source": [
    "deque = Deque()"
   ]
  },
  {
   "cell_type": "code",
   "execution_count": 23,
   "id": "7a0022ac",
   "metadata": {},
   "outputs": [],
   "source": [
    "with open('7.txt', 'r', encoding='utf-8') as file:\n",
    "    numbers = list(map(int, file.read().split()))"
   ]
  },
  {
   "cell_type": "code",
   "execution_count": 24,
   "id": "271dcd9c",
   "metadata": {},
   "outputs": [],
   "source": [
    "for num in numbers:\n",
    "    if num < 0:  # если число отрицательное\n",
    "        deque.add_front(num)\n",
    "    elif num > 0:  # если число положительное\n",
    "        deque.add_rear(num)\n",
    "    # нулевые числа игнорируем"
   ]
  },
  {
   "cell_type": "code",
   "execution_count": 25,
   "id": "f3cc9ae9",
   "metadata": {},
   "outputs": [
    {
     "name": "stdout",
     "output_type": "stream",
     "text": [
      "Отрицательные числа: -32 -72 -52 -16 -70 -28 -80 -54 -58 -46 -91 -4 -6 -73 -38 -45 -35 -97 -95 -74 -78 -21 -41 -23 -48 -14 -48 -75 -22 -17 -33 -26 -18 -22 -83 -47 -74 -28 -72 -97 -15 -89 -97 -67 -99 -91 -33 -80 -25 -68\n",
      "Положительные числа: 18 13 77 28 82 1 39 37 91 63 61 86 66 62 36 71 72 40 67 94 20 45 94 90 95 14 13 48 94 22 22 31 18 97 90 61 24 22 91 67 48 93 18 3 7 98 38 76 50\n"
     ]
    }
   ],
   "source": [
    "negative_numbers = []\n",
    "while not deque.is_empty() and deque.items[0] < 0:\n",
    "    negative_numbers.append(deque.remove_front())\n",
    "\n",
    "positive_numbers = []\n",
    "while not deque.is_empty():\n",
    "    positive_numbers.insert(0, deque.remove_rear())\n",
    "\n",
    "print('Отрицательные числа:', ' '.join(map(str, negative_numbers)))\n",
    "print('Положительные числа:', ' '.join(map(str, positive_numbers)))"
   ]
  },
  {
   "cell_type": "markdown",
   "id": "b9228191",
   "metadata": {
    "id": "b9228191"
   },
   "source": [
    "### Задание №8\n",
    "Дан текстовый файл. Используя стек, сформировать новый текстовый файл, содержащий строки исходного файла, записанные в обратном порядке: первая строка становится последней, вторая – предпоследней и т.д."
   ]
  },
  {
   "cell_type": "code",
   "execution_count": 26,
   "id": "981fbdfe",
   "metadata": {
    "id": "981fbdfe"
   },
   "outputs": [],
   "source": [
    "stack = Stack()"
   ]
  },
  {
   "cell_type": "code",
   "execution_count": 27,
   "id": "c30aa054",
   "metadata": {},
   "outputs": [
    {
     "name": "stdout",
     "output_type": "stream",
     "text": [
      "['1', '2', '3', '4', '5', '6']\n"
     ]
    }
   ],
   "source": [
    "with open('8_input.txt', 'r', encoding='utf-8') as file:\n",
    "    print([i.strip() for i in file])"
   ]
  },
  {
   "cell_type": "code",
   "execution_count": 28,
   "id": "eab07049",
   "metadata": {},
   "outputs": [
    {
     "data": {
      "text/plain": [
       "['6', '5', '4', '3', '2', '1']"
      ]
     },
     "execution_count": 28,
     "metadata": {},
     "output_type": "execute_result"
    }
   ],
   "source": [
    "with open('8_input.txt', 'r', encoding='utf-8') as file:\n",
    "    for line in file:\n",
    "        stack.push(line.strip()) \n",
    "stack.items"
   ]
  },
  {
   "cell_type": "code",
   "execution_count": 29,
   "id": "95987c97",
   "metadata": {},
   "outputs": [],
   "source": [
    "with open('8_output.txt', 'w', encoding='utf-8') as file:\n",
    "    while not stack.is_empty():\n",
    "        file.write(stack.pop() + '\\n')"
   ]
  },
  {
   "cell_type": "code",
   "execution_count": 30,
   "id": "df8a221d",
   "metadata": {},
   "outputs": [
    {
     "name": "stdout",
     "output_type": "stream",
     "text": [
      "['6', '5', '4', '3', '2', '1']\n"
     ]
    }
   ],
   "source": [
    "with open('8_output.txt', 'r', encoding='utf-8') as file:\n",
    "    print([i.strip() for i in file])"
   ]
  },
  {
   "cell_type": "markdown",
   "id": "rental-jerusalem",
   "metadata": {
    "id": "rental-jerusalem"
   },
   "source": [
    "### Вывод\n"
   ]
  },
  {
   "cell_type": "markdown",
   "id": "4e4b63ea",
   "metadata": {},
   "source": [
    "В рамках данной работы были реализованы и протестированы различные алгоритмы, использующие структуры данных стек и дек, а также решены практические задачи на основе этих структур."
   ]
  }
 ],
 "metadata": {
  "colab": {
   "provenance": [
    {
     "file_id": "1SJnopeql2j1MhzcaJ8o68KaPzPnynIeK",
     "timestamp": 1676536264821
    }
   ]
  },
  "kernelspec": {
   "display_name": "Python 3 (ipykernel)",
   "language": "python",
   "name": "python3"
  },
  "language_info": {
   "codemirror_mode": {
    "name": "ipython",
    "version": 3
   },
   "file_extension": ".py",
   "mimetype": "text/x-python",
   "name": "python",
   "nbconvert_exporter": "python",
   "pygments_lexer": "ipython3",
   "version": "3.11.2"
  },
  "toc": {
   "base_numbering": 1,
   "nav_menu": {},
   "number_sections": true,
   "sideBar": true,
   "skip_h1_title": false,
   "title_cell": "Table of Contents",
   "title_sidebar": "Contents",
   "toc_cell": false,
   "toc_position": {},
   "toc_section_display": true,
   "toc_window_display": false
  }
 },
 "nbformat": 4,
 "nbformat_minor": 5
}
